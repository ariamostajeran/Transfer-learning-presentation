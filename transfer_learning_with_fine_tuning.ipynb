{
  "cells": [
    {
      "cell_type": "code",
      "execution_count": null,
      "id": "cfb90bb1",
      "metadata": {
        "_cell_guid": "b1076dfc-b9ad-4769-8c92-a6c4dae69d19",
        "_uuid": "8f2839f25d086af736a60e9eeb907d3b93b6e0e5",
        "execution": {
          "iopub.execute_input": "2022-05-21T17:24:11.290242Z",
          "iopub.status.busy": "2022-05-21T17:24:11.289827Z",
          "iopub.status.idle": "2022-05-21T17:24:16.441418Z",
          "shell.execute_reply": "2022-05-21T17:24:16.440709Z"
        },
        "papermill": {
          "duration": 5.215709,
          "end_time": "2022-05-21T17:24:16.443915",
          "exception": false,
          "start_time": "2022-05-21T17:24:11.228206",
          "status": "completed"
        },
        "tags": [],
        "id": "cfb90bb1"
      },
      "outputs": [],
      "source": [
        "import tensorflow as tf\n",
        "from tensorflow import keras\n",
        "from tensorflow.keras import datasets, layers, losses\n",
        "from tensorflow.keras.preprocessing.image import ImageDataGenerator\n",
        "from PIL import Image\n",
        "import numpy as np\n",
        "import pandas as pd\n",
        "from tensorflow.keras.callbacks import ReduceLROnPlateau\n",
        "from tensorflow.keras.callbacks import EarlyStopping\n",
        "import matplotlib.pyplot as plt\n",
        "# from tensorflow.keras.layers.normalization import BatchNormalization\n"
      ]
    },
    {
      "cell_type": "markdown",
      "id": "0b489113",
      "metadata": {
        "papermill": {
          "duration": 0.036911,
          "end_time": "2022-05-21T17:24:16.520125",
          "exception": false,
          "start_time": "2022-05-21T17:24:16.483214",
          "status": "completed"
        },
        "tags": [],
        "id": "0b489113"
      },
      "source": [
        "# Reading Data"
      ]
    },
    {
      "cell_type": "code",
      "execution_count": null,
      "id": "6b48813d",
      "metadata": {
        "execution": {
          "iopub.execute_input": "2022-05-21T17:24:16.594001Z",
          "iopub.status.busy": "2022-05-21T17:24:16.593759Z",
          "iopub.status.idle": "2022-05-21T17:24:16.597776Z",
          "shell.execute_reply": "2022-05-21T17:24:16.597084Z"
        },
        "papermill": {
          "duration": 0.043305,
          "end_time": "2022-05-21T17:24:16.599609",
          "exception": false,
          "start_time": "2022-05-21T17:24:16.556304",
          "status": "completed"
        },
        "tags": [],
        "id": "6b48813d"
      },
      "outputs": [],
      "source": [
        "idg = ImageDataGenerator(rescale = 1./255.) # for transfer models use preprocessing"
      ]
    },
    {
      "cell_type": "code",
      "execution_count": null,
      "id": "933f3646",
      "metadata": {
        "execution": {
          "iopub.execute_input": "2022-05-21T17:24:16.673531Z",
          "iopub.status.busy": "2022-05-21T17:24:16.673308Z",
          "iopub.status.idle": "2022-05-21T17:24:18.935230Z",
          "shell.execute_reply": "2022-05-21T17:24:18.933740Z"
        },
        "papermill": {
          "duration": 2.301099,
          "end_time": "2022-05-21T17:24:18.937494",
          "exception": false,
          "start_time": "2022-05-21T17:24:16.636395",
          "status": "completed"
        },
        "tags": [],
        "id": "933f3646",
        "outputId": "3dd7ad9c-fb47-440e-c1cd-5faffc7dc50e"
      },
      "outputs": [
        {
          "name": "stdout",
          "output_type": "stream",
          "text": [
            "Found 13572 images belonging to 100 classes.\n",
            "Found 500 images belonging to 100 classes.\n"
          ]
        }
      ],
      "source": [
        "BATCH_SIZE = 32\n",
        "train_iter = idg.flow_from_directory(directory='../input/sports-classification/train', target_size=(224,224),\n",
        "                                     batch_size=BATCH_SIZE, subset='training')\n",
        "valid_iter = idg.flow_from_directory(directory='../input/sports-classification/test', target_size=(224,224),\n",
        "                                     batch_size=BATCH_SIZE, subset='training')"
      ]
    },
    {
      "cell_type": "markdown",
      "id": "c0639200",
      "metadata": {
        "papermill": {
          "duration": 0.038137,
          "end_time": "2022-05-21T17:24:19.013429",
          "exception": false,
          "start_time": "2022-05-21T17:24:18.975292",
          "status": "completed"
        },
        "tags": [],
        "id": "c0639200"
      },
      "source": [
        "# Normal CNN model"
      ]
    },
    {
      "cell_type": "code",
      "execution_count": null,
      "id": "c60770ff",
      "metadata": {
        "execution": {
          "iopub.execute_input": "2022-05-21T17:24:19.088148Z",
          "iopub.status.busy": "2022-05-21T17:24:19.087908Z",
          "iopub.status.idle": "2022-05-21T17:24:19.091710Z",
          "shell.execute_reply": "2022-05-21T17:24:19.090993Z"
        },
        "papermill": {
          "duration": 0.042854,
          "end_time": "2022-05-21T17:24:19.093266",
          "exception": false,
          "start_time": "2022-05-21T17:24:19.050412",
          "status": "completed"
        },
        "tags": [],
        "id": "c60770ff"
      },
      "outputs": [],
      "source": [
        "# from tensorflow.keras import regularizers\n",
        "# model = keras.Sequential ([\n",
        "#       layers.Conv2D(16, (3,3), padding='same', kernel_initializer='he_uniform', activation='relu', input_shape=(224, 224, 3), kernel_regularizer=regularizers.l2(l=0.01)),\n",
        "#       layers.MaxPool2D((2, 2)),\n",
        "#       layers.Conv2D(64, (3,3), padding='same', kernel_initializer='he_uniform', activation='relu', kernel_regularizer=regularizers.l2(l=0.01)),\n",
        "#       layers.MaxPool2D((2, 2)),\n",
        "#       layers.Dropout(0.4),\n",
        "                \n",
        "#       layers.Flatten(),\n",
        "     \n",
        "# #       layers.Dense(512, kernel_initializer='he_uniform', activation='relu'),\n",
        "#       layers.Dense(256, kernel_initializer='he_uniform', activation='relu'),\n",
        "#       layers.Dropout(0.5),\n",
        "#       layers.Dense(21, kernel_initializer='he_uniform', activation='softmax')              \n",
        "# ])"
      ]
    },
    {
      "cell_type": "code",
      "execution_count": null,
      "id": "1a050a0e",
      "metadata": {
        "execution": {
          "iopub.execute_input": "2022-05-21T17:24:19.167608Z",
          "iopub.status.busy": "2022-05-21T17:24:19.166997Z",
          "iopub.status.idle": "2022-05-21T17:24:19.170376Z",
          "shell.execute_reply": "2022-05-21T17:24:19.169749Z"
        },
        "papermill": {
          "duration": 0.042465,
          "end_time": "2022-05-21T17:24:19.172043",
          "exception": false,
          "start_time": "2022-05-21T17:24:19.129578",
          "status": "completed"
        },
        "tags": [],
        "id": "1a050a0e"
      },
      "outputs": [],
      "source": [
        "# model.summary()"
      ]
    },
    {
      "cell_type": "code",
      "execution_count": null,
      "id": "12b87d1b",
      "metadata": {
        "execution": {
          "iopub.execute_input": "2022-05-21T17:24:19.246112Z",
          "iopub.status.busy": "2022-05-21T17:24:19.245611Z",
          "iopub.status.idle": "2022-05-21T17:24:19.248760Z",
          "shell.execute_reply": "2022-05-21T17:24:19.248029Z"
        },
        "papermill": {
          "duration": 0.0417,
          "end_time": "2022-05-21T17:24:19.250325",
          "exception": false,
          "start_time": "2022-05-21T17:24:19.208625",
          "status": "completed"
        },
        "tags": [],
        "id": "12b87d1b"
      },
      "outputs": [],
      "source": [
        "# #callbacks\n",
        "# early_stopping = EarlyStopping(monitor='val_loss', patience=3)\n",
        "# reduce_lr = ReduceLROnPlateau(monitor='val_loss', factor=0.3,\n",
        "#                               patience=1, min_lr=0.001)\n"
      ]
    },
    {
      "cell_type": "code",
      "execution_count": null,
      "id": "0382bc31",
      "metadata": {
        "execution": {
          "iopub.execute_input": "2022-05-21T17:24:19.325542Z",
          "iopub.status.busy": "2022-05-21T17:24:19.324939Z",
          "iopub.status.idle": "2022-05-21T17:24:19.329979Z",
          "shell.execute_reply": "2022-05-21T17:24:19.329086Z"
        },
        "papermill": {
          "duration": 0.04526,
          "end_time": "2022-05-21T17:24:19.331834",
          "exception": false,
          "start_time": "2022-05-21T17:24:19.286574",
          "status": "completed"
        },
        "tags": [],
        "id": "0382bc31"
      },
      "outputs": [],
      "source": [
        "# adam = keras.optimizers.Adam(learning_rate=0.01)\n",
        "# model.compile(optimizer=adam, loss=losses.CategoricalCrossentropy(), metrics=['accuracy'])"
      ]
    },
    {
      "cell_type": "code",
      "execution_count": null,
      "id": "352b2a99",
      "metadata": {
        "execution": {
          "iopub.execute_input": "2022-05-21T17:24:19.406390Z",
          "iopub.status.busy": "2022-05-21T17:24:19.405816Z",
          "iopub.status.idle": "2022-05-21T17:24:19.409201Z",
          "shell.execute_reply": "2022-05-21T17:24:19.408546Z"
        },
        "papermill": {
          "duration": 0.042207,
          "end_time": "2022-05-21T17:24:19.410790",
          "exception": false,
          "start_time": "2022-05-21T17:24:19.368583",
          "status": "completed"
        },
        "tags": [],
        "id": "352b2a99"
      },
      "outputs": [],
      "source": [
        "# history = model.fit_generator(train_iter, steps_per_epoch=train_iter.samples // BATCH_SIZE,\n",
        "#                               validation_data = valid_iter, \n",
        "#                               validation_steps = valid_iter.samples // BATCH_SIZE,\n",
        "#                               epochs=15, use_multiprocessing=True, workers=4, callbacks=[reduce_lr, early_stopping])"
      ]
    },
    {
      "cell_type": "markdown",
      "id": "1c3934f9",
      "metadata": {
        "papermill": {
          "duration": 0.036296,
          "end_time": "2022-05-21T17:24:19.483742",
          "exception": false,
          "start_time": "2022-05-21T17:24:19.447446",
          "status": "completed"
        },
        "tags": [],
        "id": "1c3934f9"
      },
      "source": [
        "# Xception model application"
      ]
    },
    {
      "cell_type": "code",
      "execution_count": null,
      "id": "ff54acce",
      "metadata": {
        "execution": {
          "iopub.execute_input": "2022-05-21T17:24:19.558575Z",
          "iopub.status.busy": "2022-05-21T17:24:19.558155Z",
          "iopub.status.idle": "2022-05-21T17:24:24.081237Z",
          "shell.execute_reply": "2022-05-21T17:24:24.080501Z"
        },
        "papermill": {
          "duration": 4.562858,
          "end_time": "2022-05-21T17:24:24.083374",
          "exception": false,
          "start_time": "2022-05-21T17:24:19.520516",
          "status": "completed"
        },
        "tags": [],
        "id": "ff54acce",
        "outputId": "bcc38d22-0287-4937-a3f2-f170d4f7b22a"
      },
      "outputs": [
        {
          "name": "stderr",
          "output_type": "stream",
          "text": [
            "2022-05-21 17:24:19.655544: I tensorflow/stream_executor/cuda/cuda_gpu_executor.cc:937] successful NUMA node read from SysFS had negative value (-1), but there must be at least one NUMA node, so returning NUMA node zero\n",
            "2022-05-21 17:24:19.786591: I tensorflow/stream_executor/cuda/cuda_gpu_executor.cc:937] successful NUMA node read from SysFS had negative value (-1), but there must be at least one NUMA node, so returning NUMA node zero\n",
            "2022-05-21 17:24:19.787318: I tensorflow/stream_executor/cuda/cuda_gpu_executor.cc:937] successful NUMA node read from SysFS had negative value (-1), but there must be at least one NUMA node, so returning NUMA node zero\n",
            "2022-05-21 17:24:19.788629: I tensorflow/core/platform/cpu_feature_guard.cc:142] This TensorFlow binary is optimized with oneAPI Deep Neural Network Library (oneDNN) to use the following CPU instructions in performance-critical operations:  AVX2 AVX512F FMA\n",
            "To enable them in other operations, rebuild TensorFlow with the appropriate compiler flags.\n",
            "2022-05-21 17:24:19.788930: I tensorflow/stream_executor/cuda/cuda_gpu_executor.cc:937] successful NUMA node read from SysFS had negative value (-1), but there must be at least one NUMA node, so returning NUMA node zero\n",
            "2022-05-21 17:24:19.789600: I tensorflow/stream_executor/cuda/cuda_gpu_executor.cc:937] successful NUMA node read from SysFS had negative value (-1), but there must be at least one NUMA node, so returning NUMA node zero\n",
            "2022-05-21 17:24:19.790202: I tensorflow/stream_executor/cuda/cuda_gpu_executor.cc:937] successful NUMA node read from SysFS had negative value (-1), but there must be at least one NUMA node, so returning NUMA node zero\n",
            "2022-05-21 17:24:21.997354: I tensorflow/stream_executor/cuda/cuda_gpu_executor.cc:937] successful NUMA node read from SysFS had negative value (-1), but there must be at least one NUMA node, so returning NUMA node zero\n",
            "2022-05-21 17:24:21.998170: I tensorflow/stream_executor/cuda/cuda_gpu_executor.cc:937] successful NUMA node read from SysFS had negative value (-1), but there must be at least one NUMA node, so returning NUMA node zero\n",
            "2022-05-21 17:24:21.998858: I tensorflow/stream_executor/cuda/cuda_gpu_executor.cc:937] successful NUMA node read from SysFS had negative value (-1), but there must be at least one NUMA node, so returning NUMA node zero\n",
            "2022-05-21 17:24:22.000036: I tensorflow/core/common_runtime/gpu/gpu_device.cc:1510] Created device /job:localhost/replica:0/task:0/device:GPU:0 with 15403 MB memory:  -> device: 0, name: Tesla P100-PCIE-16GB, pci bus id: 0000:00:04.0, compute capability: 6.0\n"
          ]
        },
        {
          "name": "stdout",
          "output_type": "stream",
          "text": [
            "Downloading data from https://storage.googleapis.com/tensorflow/keras-applications/xception/xception_weights_tf_dim_ordering_tf_kernels_notop.h5\n",
            "83689472/83683744 [==============================] - 0s 0us/step\n",
            "83697664/83683744 [==============================] - 0s 0us/step\n"
          ]
        }
      ],
      "source": [
        "xception_model = keras.applications.Xception(include_top=False, input_shape=(224, 224, 3), pooling='avg')"
      ]
    },
    {
      "cell_type": "code",
      "execution_count": null,
      "id": "86932198",
      "metadata": {
        "execution": {
          "iopub.execute_input": "2022-05-21T17:24:24.166394Z",
          "iopub.status.busy": "2022-05-21T17:24:24.166171Z",
          "iopub.status.idle": "2022-05-21T17:24:24.477469Z",
          "shell.execute_reply": "2022-05-21T17:24:24.476776Z"
        },
        "papermill": {
          "duration": 0.354725,
          "end_time": "2022-05-21T17:24:24.479464",
          "exception": false,
          "start_time": "2022-05-21T17:24:24.124739",
          "status": "completed"
        },
        "tags": [],
        "id": "86932198"
      },
      "outputs": [],
      "source": [
        "model = keras.Sequential([xception_model, \n",
        "                          \n",
        "                          # layers.Dense(1024, kernel_initializer='he_uniform', activation='softmax'),\n",
        "                          \n",
        "                          layers.Dense(256, kernel_initializer='he_uniform', activation='relu'),\n",
        "#                           layers.Dropout(0.5),\n",
        "\n",
        "                        \n",
        "                          layers.Dense(100, kernel_initializer='he_uniform', activation='softmax') \n",
        "                          ])"
      ]
    },
    {
      "cell_type": "code",
      "execution_count": null,
      "id": "7d9b8452",
      "metadata": {
        "execution": {
          "iopub.execute_input": "2022-05-21T17:24:24.562014Z",
          "iopub.status.busy": "2022-05-21T17:24:24.561799Z",
          "iopub.status.idle": "2022-05-21T17:24:24.575687Z",
          "shell.execute_reply": "2022-05-21T17:24:24.574871Z"
        },
        "papermill": {
          "duration": 0.05757,
          "end_time": "2022-05-21T17:24:24.577768",
          "exception": false,
          "start_time": "2022-05-21T17:24:24.520198",
          "status": "completed"
        },
        "tags": [],
        "id": "7d9b8452",
        "outputId": "4e2cf2b5-c0d8-4753-c046-79777c95a981"
      },
      "outputs": [
        {
          "name": "stdout",
          "output_type": "stream",
          "text": [
            "Model: \"sequential\"\n",
            "_________________________________________________________________\n",
            "Layer (type)                 Output Shape              Param #   \n",
            "=================================================================\n",
            "xception (Functional)        (None, 2048)              20861480  \n",
            "_________________________________________________________________\n",
            "dense (Dense)                (None, 256)               524544    \n",
            "_________________________________________________________________\n",
            "dense_1 (Dense)              (None, 100)               25700     \n",
            "=================================================================\n",
            "Total params: 21,411,724\n",
            "Trainable params: 21,357,196\n",
            "Non-trainable params: 54,528\n",
            "_________________________________________________________________\n"
          ]
        }
      ],
      "source": [
        "model.summary()"
      ]
    },
    {
      "cell_type": "code",
      "execution_count": null,
      "id": "eee0d290",
      "metadata": {
        "execution": {
          "iopub.execute_input": "2022-05-21T17:24:24.666631Z",
          "iopub.status.busy": "2022-05-21T17:24:24.666413Z",
          "iopub.status.idle": "2022-05-21T17:24:24.674167Z",
          "shell.execute_reply": "2022-05-21T17:24:24.673455Z"
        },
        "papermill": {
          "duration": 0.052152,
          "end_time": "2022-05-21T17:24:24.675889",
          "exception": false,
          "start_time": "2022-05-21T17:24:24.623737",
          "status": "completed"
        },
        "tags": [],
        "id": "eee0d290"
      },
      "outputs": [],
      "source": [
        "for layer in xception_model.layers:\n",
        "  layer.trainable = False"
      ]
    },
    {
      "cell_type": "code",
      "execution_count": null,
      "id": "77a70df9",
      "metadata": {
        "execution": {
          "iopub.execute_input": "2022-05-21T17:24:24.758404Z",
          "iopub.status.busy": "2022-05-21T17:24:24.758204Z",
          "iopub.status.idle": "2022-05-21T17:24:24.772083Z",
          "shell.execute_reply": "2022-05-21T17:24:24.771294Z"
        },
        "papermill": {
          "duration": 0.057277,
          "end_time": "2022-05-21T17:24:24.774325",
          "exception": false,
          "start_time": "2022-05-21T17:24:24.717048",
          "status": "completed"
        },
        "tags": [],
        "id": "77a70df9",
        "outputId": "3404be70-c897-495e-e113-0990d7aee9e2"
      },
      "outputs": [
        {
          "name": "stdout",
          "output_type": "stream",
          "text": [
            "Model: \"sequential\"\n",
            "_________________________________________________________________\n",
            "Layer (type)                 Output Shape              Param #   \n",
            "=================================================================\n",
            "xception (Functional)        (None, 2048)              20861480  \n",
            "_________________________________________________________________\n",
            "dense (Dense)                (None, 256)               524544    \n",
            "_________________________________________________________________\n",
            "dense_1 (Dense)              (None, 100)               25700     \n",
            "=================================================================\n",
            "Total params: 21,411,724\n",
            "Trainable params: 550,244\n",
            "Non-trainable params: 20,861,480\n",
            "_________________________________________________________________\n"
          ]
        }
      ],
      "source": [
        "model.summary()"
      ]
    },
    {
      "cell_type": "code",
      "execution_count": null,
      "id": "4a2bfa60",
      "metadata": {
        "execution": {
          "iopub.execute_input": "2022-05-21T17:24:24.866683Z",
          "iopub.status.busy": "2022-05-21T17:24:24.866267Z",
          "iopub.status.idle": "2022-05-21T17:24:24.871129Z",
          "shell.execute_reply": "2022-05-21T17:24:24.870414Z"
        },
        "papermill": {
          "duration": 0.053057,
          "end_time": "2022-05-21T17:24:24.872990",
          "exception": false,
          "start_time": "2022-05-21T17:24:24.819933",
          "status": "completed"
        },
        "tags": [],
        "id": "4a2bfa60"
      },
      "outputs": [],
      "source": [
        "#callbacks\n",
        "early_stopping = EarlyStopping(monitor='val_loss', patience=3)\n",
        "reduce_lr = ReduceLROnPlateau(monitor='val_loss', factor=0.3,\n",
        "                              patience=1, min_lr=0.001)\n"
      ]
    },
    {
      "cell_type": "code",
      "execution_count": null,
      "id": "4118d374",
      "metadata": {
        "execution": {
          "iopub.execute_input": "2022-05-21T17:24:24.957684Z",
          "iopub.status.busy": "2022-05-21T17:24:24.957489Z",
          "iopub.status.idle": "2022-05-21T17:24:24.972363Z",
          "shell.execute_reply": "2022-05-21T17:24:24.971767Z"
        },
        "papermill": {
          "duration": 0.058685,
          "end_time": "2022-05-21T17:24:24.974358",
          "exception": false,
          "start_time": "2022-05-21T17:24:24.915673",
          "status": "completed"
        },
        "tags": [],
        "id": "4118d374"
      },
      "outputs": [],
      "source": [
        "adam = keras.optimizers.Adam(learning_rate=0.01)\n",
        "model.compile(optimizer=adam, loss=losses.CategoricalCrossentropy(), metrics=['accuracy'])"
      ]
    },
    {
      "cell_type": "code",
      "execution_count": null,
      "id": "04a040b6",
      "metadata": {
        "execution": {
          "iopub.execute_input": "2022-05-21T17:24:25.057459Z",
          "iopub.status.busy": "2022-05-21T17:24:25.057261Z",
          "iopub.status.idle": "2022-05-21T17:37:34.999739Z",
          "shell.execute_reply": "2022-05-21T17:37:34.998741Z"
        },
        "papermill": {
          "duration": 789.986432,
          "end_time": "2022-05-21T17:37:35.002051",
          "exception": false,
          "start_time": "2022-05-21T17:24:25.015619",
          "status": "completed"
        },
        "tags": [],
        "id": "04a040b6",
        "outputId": "ab6404e6-ac6c-4661-e108-56e6e4c08181"
      },
      "outputs": [
        {
          "name": "stderr",
          "output_type": "stream",
          "text": [
            "/opt/conda/lib/python3.7/site-packages/keras/engine/training.py:1972: UserWarning: `Model.fit_generator` is deprecated and will be removed in a future version. Please use `Model.fit`, which supports generators.\n",
            "  warnings.warn('`Model.fit_generator` is deprecated and '\n",
            "2022-05-21 17:24:25.356616: I tensorflow/compiler/mlir/mlir_graph_optimization_pass.cc:185] None of the MLIR Optimization Passes are enabled (registered 2)\n"
          ]
        },
        {
          "name": "stdout",
          "output_type": "stream",
          "text": [
            "Epoch 1/15\n"
          ]
        },
        {
          "name": "stderr",
          "output_type": "stream",
          "text": [
            "2022-05-21 17:24:29.567215: I tensorflow/stream_executor/cuda/cuda_dnn.cc:369] Loaded cuDNN version 8005\n"
          ]
        },
        {
          "name": "stdout",
          "output_type": "stream",
          "text": [
            "424/424 [==============================] - 61s 121ms/step - loss: 1.7908 - accuracy: 0.5436 - val_loss: 0.9027 - val_accuracy: 0.7125\n",
            "Epoch 2/15\n",
            "424/424 [==============================] - 43s 100ms/step - loss: 1.0081 - accuracy: 0.7182 - val_loss: 0.9170 - val_accuracy: 0.7292\n",
            "Epoch 3/15\n",
            "424/424 [==============================] - 47s 110ms/step - loss: 0.4665 - accuracy: 0.8583 - val_loss: 0.4796 - val_accuracy: 0.8583\n",
            "Epoch 4/15\n",
            "424/424 [==============================] - 49s 115ms/step - loss: 0.3157 - accuracy: 0.8999 - val_loss: 0.4687 - val_accuracy: 0.8604\n",
            "Epoch 5/15\n",
            "424/424 [==============================] - 47s 108ms/step - loss: 0.2453 - accuracy: 0.9177 - val_loss: 0.4638 - val_accuracy: 0.8813\n",
            "Epoch 6/15\n",
            "424/424 [==============================] - 49s 114ms/step - loss: 0.1846 - accuracy: 0.9404 - val_loss: 0.4944 - val_accuracy: 0.8500\n",
            "Epoch 7/15\n",
            "424/424 [==============================] - 47s 108ms/step - loss: 0.0989 - accuracy: 0.9720 - val_loss: 0.4303 - val_accuracy: 0.8958\n",
            "Epoch 8/15\n",
            "424/424 [==============================] - 47s 110ms/step - loss: 0.0764 - accuracy: 0.9821 - val_loss: 0.4158 - val_accuracy: 0.9000\n",
            "Epoch 9/15\n",
            "424/424 [==============================] - 47s 109ms/step - loss: 0.0647 - accuracy: 0.9860 - val_loss: 0.4204 - val_accuracy: 0.9042\n",
            "Epoch 10/15\n",
            "424/424 [==============================] - 47s 108ms/step - loss: 0.0554 - accuracy: 0.9898 - val_loss: 0.4075 - val_accuracy: 0.8958\n",
            "Epoch 11/15\n",
            "424/424 [==============================] - 48s 111ms/step - loss: 0.0470 - accuracy: 0.9914 - val_loss: 0.4389 - val_accuracy: 0.9000\n",
            "Epoch 12/15\n",
            "424/424 [==============================] - 48s 112ms/step - loss: 0.0405 - accuracy: 0.9939 - val_loss: 0.4269 - val_accuracy: 0.8896\n",
            "Epoch 13/15\n",
            "424/424 [==============================] - 46s 108ms/step - loss: 0.0352 - accuracy: 0.9951 - val_loss: 0.4298 - val_accuracy: 0.8833\n"
          ]
        }
      ],
      "source": [
        "history = model.fit_generator(train_iter, steps_per_epoch=train_iter.samples // BATCH_SIZE,\n",
        "                              validation_data = valid_iter, \n",
        "                              validation_steps = valid_iter.samples // BATCH_SIZE,\n",
        "                              epochs=15, use_multiprocessing=True, workers=4, callbacks=[reduce_lr, early_stopping])"
      ]
    },
    {
      "cell_type": "code",
      "execution_count": null,
      "id": "ba257864",
      "metadata": {
        "execution": {
          "iopub.execute_input": "2022-05-21T17:37:38.921067Z",
          "iopub.status.busy": "2022-05-21T17:37:38.920739Z",
          "iopub.status.idle": "2022-05-21T17:38:10.830345Z",
          "shell.execute_reply": "2022-05-21T17:38:10.829258Z"
        },
        "papermill": {
          "duration": 34.006969,
          "end_time": "2022-05-21T17:38:10.833160",
          "exception": false,
          "start_time": "2022-05-21T17:37:36.826191",
          "status": "completed"
        },
        "tags": [],
        "id": "ba257864",
        "outputId": "0208c80b-6db4-4ca9-9c8d-eebb2b6bce4b"
      },
      "outputs": [
        {
          "data": {
            "image/png": "[encoded data removed]",
            "text/plain": [
              "<Figure size 432x288 with 1 Axes>"
            ]
          },
          "metadata": {
            "needs_background": "light"
          },
          "output_type": "display_data"
        }
      ],
      "source": [
        "plt.plot(history.history['accuracy'], label='accuracy')\n",
        "plt.plot(history.history['val_accuracy'], label='validation accuracy')\n",
        "# plt.ylim([0.5, 1])\n",
        "# plt.legend(loc='lower right)\n",
        "plt.show()"
      ]
    },
    {
      "cell_type": "markdown",
      "id": "eaf5fa63",
      "metadata": {
        "papermill": {
          "duration": 1.72196,
          "end_time": "2022-05-21T17:38:14.448338",
          "exception": false,
          "start_time": "2022-05-21T17:38:12.726378",
          "status": "completed"
        },
        "tags": [],
        "id": "eaf5fa63"
      },
      "source": [
        "**Fine Tuning**"
      ]
    },
    {
      "cell_type": "code",
      "execution_count": null,
      "id": "2e688993",
      "metadata": {
        "execution": {
          "iopub.execute_input": "2022-05-21T17:38:17.944909Z",
          "iopub.status.busy": "2022-05-21T17:38:17.944398Z",
          "iopub.status.idle": "2022-05-21T17:38:17.957938Z",
          "shell.execute_reply": "2022-05-21T17:38:17.957191Z"
        },
        "papermill": {
          "duration": 1.779829,
          "end_time": "2022-05-21T17:38:17.959622",
          "exception": false,
          "start_time": "2022-05-21T17:38:16.179793",
          "status": "completed"
        },
        "tags": [],
        "id": "2e688993"
      },
      "outputs": [],
      "source": [
        "adam = keras.optimizers.Adam(learning_rate=0.00008)\n",
        "for layer in xception_model.layers:\n",
        "  layer.trainable = True"
      ]
    },
    {
      "cell_type": "code",
      "execution_count": null,
      "id": "d98a58e7",
      "metadata": {
        "execution": {
          "iopub.execute_input": "2022-05-21T17:38:21.437678Z",
          "iopub.status.busy": "2022-05-21T17:38:21.437397Z",
          "iopub.status.idle": "2022-05-21T17:38:21.452696Z",
          "shell.execute_reply": "2022-05-21T17:38:21.452013Z"
        },
        "papermill": {
          "duration": 1.784997,
          "end_time": "2022-05-21T17:38:21.454430",
          "exception": false,
          "start_time": "2022-05-21T17:38:19.669433",
          "status": "completed"
        },
        "tags": [],
        "id": "d98a58e7"
      },
      "outputs": [],
      "source": [
        "model.compile(optimizer=adam, loss=losses.CategoricalCrossentropy(), metrics=['accuracy'])"
      ]
    },
    {
      "cell_type": "code",
      "execution_count": null,
      "id": "2483f91f",
      "metadata": {
        "execution": {
          "iopub.execute_input": "2022-05-21T17:38:25.186899Z",
          "iopub.status.busy": "2022-05-21T17:38:25.186637Z",
          "iopub.status.idle": "2022-05-21T17:50:47.797487Z",
          "shell.execute_reply": "2022-05-21T17:50:47.796430Z"
        },
        "papermill": {
          "duration": 744.343374,
          "end_time": "2022-05-21T17:50:47.800261",
          "exception": false,
          "start_time": "2022-05-21T17:38:23.456887",
          "status": "completed"
        },
        "tags": [],
        "id": "2483f91f",
        "outputId": "f6b7e79f-facc-4cb7-f3f5-77ad54f59f91"
      },
      "outputs": [
        {
          "name": "stdout",
          "output_type": "stream",
          "text": [
            "Epoch 1/4\n",
            "424/424 [==============================] - 172s 393ms/step - loss: 0.5603 - accuracy: 0.8396 - val_loss: 0.2838 - val_accuracy: 0.9104\n",
            "Epoch 2/4\n",
            "424/424 [==============================] - 168s 393ms/step - loss: 0.1261 - accuracy: 0.9597 - val_loss: 0.2641 - val_accuracy: 0.9396\n",
            "Epoch 3/4\n",
            "424/424 [==============================] - 166s 391ms/step - loss: 0.0728 - accuracy: 0.9781 - val_loss: 0.2033 - val_accuracy: 0.9375\n",
            "Epoch 4/4\n",
            "424/424 [==============================] - 166s 390ms/step - loss: 0.0486 - accuracy: 0.9860 - val_loss: 0.2750 - val_accuracy: 0.9375\n"
          ]
        }
      ],
      "source": [
        "history = model.fit_generator(train_iter, steps_per_epoch=train_iter.samples // BATCH_SIZE,\n",
        "                              validation_data = valid_iter, \n",
        "                              validation_steps = valid_iter.samples // BATCH_SIZE,\n",
        "                              epochs=4, use_multiprocessing=True, workers=4)#, callbacks=[reduce_lr, early_stopping])"
      ]
    },
    {
      "cell_type": "markdown",
      "id": "ac1146ec",
      "metadata": {
        "papermill": {
          "duration": 2.311499,
          "end_time": "2022-05-21T17:50:52.774702",
          "exception": false,
          "start_time": "2022-05-21T17:50:50.463203",
          "status": "completed"
        },
        "tags": [],
        "id": "ac1146ec"
      },
      "source": [
        "# VGG model application"
      ]
    },
    {
      "cell_type": "code",
      "execution_count": null,
      "id": "09ea6172",
      "metadata": {
        "execution": {
          "iopub.execute_input": "2022-05-21T17:50:57.246545Z",
          "iopub.status.busy": "2022-05-21T17:50:57.246237Z",
          "iopub.status.idle": "2022-05-21T17:50:59.648995Z",
          "shell.execute_reply": "2022-05-21T17:50:59.648226Z"
        },
        "papermill": {
          "duration": 4.641235,
          "end_time": "2022-05-21T17:50:59.651321",
          "exception": false,
          "start_time": "2022-05-21T17:50:55.010086",
          "status": "completed"
        },
        "tags": [],
        "id": "09ea6172",
        "outputId": "14cbc343-80a1-40c0-aec7-16a3f135d8d5"
      },
      "outputs": [
        {
          "name": "stdout",
          "output_type": "stream",
          "text": [
            "Downloading data from https://storage.googleapis.com/tensorflow/keras-applications/vgg16/vgg16_weights_tf_dim_ordering_tf_kernels_notop.h5\n",
            "58892288/58889256 [==============================] - 1s 0us/step\n",
            "58900480/58889256 [==============================] - 1s 0us/step\n"
          ]
        }
      ],
      "source": [
        "vgg_model = keras.applications.VGG16(include_top=False, input_shape=(224, 224, 3), pooling='avg')"
      ]
    },
    {
      "cell_type": "code",
      "execution_count": null,
      "id": "87c1a98a",
      "metadata": {
        "execution": {
          "iopub.execute_input": "2022-05-21T17:51:04.593942Z",
          "iopub.status.busy": "2022-05-21T17:51:04.593685Z",
          "iopub.status.idle": "2022-05-21T17:51:04.669246Z",
          "shell.execute_reply": "2022-05-21T17:51:04.668541Z"
        },
        "papermill": {
          "duration": 2.461108,
          "end_time": "2022-05-21T17:51:04.671067",
          "exception": false,
          "start_time": "2022-05-21T17:51:02.209959",
          "status": "completed"
        },
        "tags": [],
        "id": "87c1a98a",
        "outputId": "9c1b21be-a2ba-4734-e922-9a3a7e59d877"
      },
      "outputs": [
        {
          "name": "stdout",
          "output_type": "stream",
          "text": [
            "Model: \"sequential_1\"\n",
            "_________________________________________________________________\n",
            "Layer (type)                 Output Shape              Param #   \n",
            "=================================================================\n",
            "vgg16 (Functional)           (None, 512)               14714688  \n",
            "_________________________________________________________________\n",
            "flatten (Flatten)            (None, 512)               0         \n",
            "_________________________________________________________________\n",
            "dense_2 (Dense)              (None, 256)               131328    \n",
            "_________________________________________________________________\n",
            "dense_3 (Dense)              (None, 100)               25700     \n",
            "=================================================================\n",
            "Total params: 14,871,716\n",
            "Trainable params: 157,028\n",
            "Non-trainable params: 14,714,688\n",
            "_________________________________________________________________\n"
          ]
        }
      ],
      "source": [
        "model = keras.Sequential([vgg_model, \n",
        "                          \n",
        "                          # layers.Dense(1024, kernel_initializer='he_uniform', activation='softmax'),\n",
        "#                           layers.Dense(512, kernel_initializer='he_uniform', activation='relu'),\n",
        "                          layers.Flatten(),\n",
        "                          layers.Dense(256, kernel_initializer='he_uniform', activation='relu'),\n",
        "#                           layers.Dropout(0.5),\n",
        "\n",
        "                        \n",
        "                          layers.Dense(100, kernel_initializer='he_uniform', activation='softmax') \n",
        "                          ])\n",
        "for layer in vgg_model.layers:\n",
        "  layer.trainable = False\n",
        "\n",
        "model.summary()\n"
      ]
    },
    {
      "cell_type": "code",
      "execution_count": null,
      "id": "bccdf27a",
      "metadata": {
        "execution": {
          "iopub.execute_input": "2022-05-21T17:51:09.139030Z",
          "iopub.status.busy": "2022-05-21T17:51:09.138773Z",
          "iopub.status.idle": "2022-05-21T17:51:09.149525Z",
          "shell.execute_reply": "2022-05-21T17:51:09.148841Z"
        },
        "papermill": {
          "duration": 2.24668,
          "end_time": "2022-05-21T17:51:09.151190",
          "exception": false,
          "start_time": "2022-05-21T17:51:06.904510",
          "status": "completed"
        },
        "tags": [],
        "id": "bccdf27a"
      },
      "outputs": [],
      "source": [
        "early_stopping = EarlyStopping(monitor='val_loss', patience=3)\n",
        "reduce_lr = ReduceLROnPlateau(monitor='val_loss', factor=0.3,\n",
        "                              patience=1, min_lr=0.0005)\n",
        "adam = keras.optimizers.Adam(learning_rate=0.01)\n",
        "model.compile(optimizer=adam, loss=losses.CategoricalCrossentropy(), metrics=['accuracy'])"
      ]
    },
    {
      "cell_type": "code",
      "execution_count": null,
      "id": "18d65f45",
      "metadata": {
        "execution": {
          "iopub.execute_input": "2022-05-21T17:51:13.968512Z",
          "iopub.status.busy": "2022-05-21T17:51:13.967855Z",
          "iopub.status.idle": "2022-05-21T18:08:08.429892Z",
          "shell.execute_reply": "2022-05-21T18:08:08.425580Z"
        },
        "papermill": {
          "duration": 1021.315026,
          "end_time": "2022-05-21T18:08:12.767763",
          "exception": false,
          "start_time": "2022-05-21T17:51:11.452737",
          "status": "completed"
        },
        "tags": [],
        "id": "18d65f45",
        "outputId": "35dd549a-52e6-4770-96f8-87befcf1251a"
      },
      "outputs": [
        {
          "name": "stdout",
          "output_type": "stream",
          "text": [
            "Epoch 1/15\n",
            "424/424 [==============================] - 48s 104ms/step - loss: 3.5368 - accuracy: 0.1455 - val_loss: 2.6913 - val_accuracy: 0.2875\n",
            "Epoch 2/15\n",
            "424/424 [==============================] - 48s 111ms/step - loss: 2.6159 - accuracy: 0.2911 - val_loss: 2.2652 - val_accuracy: 0.3604\n",
            "Epoch 3/15\n",
            "424/424 [==============================] - 49s 113ms/step - loss: 2.4150 - accuracy: 0.3354 - val_loss: 2.1767 - val_accuracy: 0.3667\n",
            "Epoch 4/15\n",
            "424/424 [==============================] - 45s 106ms/step - loss: 2.3102 - accuracy: 0.3560 - val_loss: 2.0862 - val_accuracy: 0.3833\n",
            "Epoch 5/15\n",
            "424/424 [==============================] - 49s 113ms/step - loss: 2.2485 - accuracy: 0.3713 - val_loss: 2.0012 - val_accuracy: 0.4271\n",
            "Epoch 6/15\n",
            "424/424 [==============================] - 46s 107ms/step - loss: 2.1837 - accuracy: 0.3874 - val_loss: 2.0460 - val_accuracy: 0.4000\n",
            "Epoch 7/15\n",
            "424/424 [==============================] - 50s 117ms/step - loss: 2.0136 - accuracy: 0.4372 - val_loss: 1.8630 - val_accuracy: 0.4563\n",
            "Epoch 8/15\n",
            "424/424 [==============================] - 45s 105ms/step - loss: 1.9917 - accuracy: 0.4391 - val_loss: 1.9314 - val_accuracy: 0.4625\n",
            "Epoch 9/15\n",
            "424/424 [==============================] - 49s 113ms/step - loss: 1.9363 - accuracy: 0.4606 - val_loss: 1.8474 - val_accuracy: 0.4708\n",
            "Epoch 10/15\n",
            "424/424 [==============================] - 46s 107ms/step - loss: 1.9304 - accuracy: 0.4616 - val_loss: 1.8438 - val_accuracy: 0.4750\n",
            "Epoch 11/15\n",
            "424/424 [==============================] - 48s 111ms/step - loss: 1.9237 - accuracy: 0.4646 - val_loss: 1.8482 - val_accuracy: 0.4708\n",
            "Epoch 12/15\n",
            "424/424 [==============================] - 43s 99ms/step - loss: 1.9129 - accuracy: 0.4659 - val_loss: 1.8225 - val_accuracy: 0.4688\n",
            "Epoch 13/15\n",
            "424/424 [==============================] - 47s 109ms/step - loss: 1.9100 - accuracy: 0.4645 - val_loss: 1.7941 - val_accuracy: 0.4833\n",
            "Epoch 14/15\n",
            "424/424 [==============================] - 44s 102ms/step - loss: 1.9087 - accuracy: 0.4685 - val_loss: 1.8132 - val_accuracy: 0.4917\n",
            "Epoch 15/15\n",
            "424/424 [==============================] - 43s 99ms/step - loss: 1.9051 - accuracy: 0.4660 - val_loss: 1.8412 - val_accuracy: 0.4750\n"
          ]
        }
      ],
      "source": [
        "history = model.fit_generator(train_iter, steps_per_epoch=train_iter.samples // BATCH_SIZE,\n",
        "                              validation_data = valid_iter, \n",
        "                              validation_steps = valid_iter.samples // BATCH_SIZE,\n",
        "                              epochs=15, use_multiprocessing=True, workers=4, callbacks=[reduce_lr, early_stopping])"
      ]
    },
    {
      "cell_type": "markdown",
      "id": "d2041956",
      "metadata": {
        "papermill": {
          "duration": 4.736553,
          "end_time": "2022-05-21T18:08:22.024828",
          "exception": false,
          "start_time": "2022-05-21T18:08:17.288275",
          "status": "completed"
        },
        "tags": [],
        "id": "d2041956"
      },
      "source": [
        "**Fine Tuning**"
      ]
    },
    {
      "cell_type": "code",
      "execution_count": null,
      "id": "10ef759f",
      "metadata": {
        "execution": {
          "iopub.execute_input": "2022-05-21T18:08:30.772062Z",
          "iopub.status.busy": "2022-05-21T18:08:30.771782Z",
          "iopub.status.idle": "2022-05-21T18:08:30.958164Z",
          "shell.execute_reply": "2022-05-21T18:08:30.957456Z"
        },
        "papermill": {
          "duration": 4.43528,
          "end_time": "2022-05-21T18:08:30.959993",
          "exception": false,
          "start_time": "2022-05-21T18:08:26.524713",
          "status": "completed"
        },
        "tags": [],
        "id": "10ef759f",
        "outputId": "2d27496a-78c1-47d7-f435-945bbb58686d"
      },
      "outputs": [
        {
          "data": {
            "image/png": "[encoded data removed]",
            "text/plain": [
              "<Figure size 432x288 with 1 Axes>"
            ]
          },
          "metadata": {
            "needs_background": "light"
          },
          "output_type": "display_data"
        }
      ],
      "source": [
        "plt.plot(history.history['accuracy'], label='accuracy')\n",
        "plt.plot(history.history['val_accuracy'], label='validation accuracy')\n",
        "\n",
        "# plt.ylim([0.5, 1])\n",
        "# plt.legend(loc='lower right)\n",
        "plt.show()"
      ]
    },
    {
      "cell_type": "code",
      "execution_count": null,
      "id": "84bccfdf",
      "metadata": {
        "execution": {
          "iopub.execute_input": "2022-05-21T18:08:39.935414Z",
          "iopub.status.busy": "2022-05-21T18:08:39.934595Z",
          "iopub.status.idle": "2022-05-21T18:08:39.947999Z",
          "shell.execute_reply": "2022-05-21T18:08:39.947309Z"
        },
        "papermill": {
          "duration": 4.764797,
          "end_time": "2022-05-21T18:08:39.950164",
          "exception": false,
          "start_time": "2022-05-21T18:08:35.185367",
          "status": "completed"
        },
        "tags": [],
        "id": "84bccfdf"
      },
      "outputs": [],
      "source": [
        "for layer in vgg_model.layers:\n",
        "  layer.trainable = True\n",
        "\n",
        "adam = keras.optimizers.Adam(learning_rate=0.0001)\n",
        "model.compile(optimizer=adam, loss=losses.CategoricalCrossentropy(), metrics=['accuracy'])"
      ]
    },
    {
      "cell_type": "code",
      "execution_count": null,
      "id": "52476a64",
      "metadata": {
        "execution": {
          "iopub.execute_input": "2022-05-21T18:08:48.751237Z",
          "iopub.status.busy": "2022-05-21T18:08:48.750977Z",
          "iopub.status.idle": "2022-05-21T18:17:29.710500Z",
          "shell.execute_reply": "2022-05-21T18:17:29.709563Z"
        },
        "papermill": {
          "duration": 525.542485,
          "end_time": "2022-05-21T18:17:29.712938",
          "exception": false,
          "start_time": "2022-05-21T18:08:44.170453",
          "status": "completed"
        },
        "tags": [],
        "id": "52476a64",
        "outputId": "5adbcbd0-3293-4148-a7b2-549f8ed2858d"
      },
      "outputs": [
        {
          "name": "stdout",
          "output_type": "stream",
          "text": [
            "Epoch 1/4\n",
            "424/424 [==============================] - 95s 218ms/step - loss: 3.4161 - accuracy: 0.1817 - val_loss: 2.1105 - val_accuracy: 0.4271\n",
            "Epoch 2/4\n",
            "424/424 [==============================] - 94s 219ms/step - loss: 1.9968 - accuracy: 0.4340 - val_loss: 1.6404 - val_accuracy: 0.5250\n",
            "Epoch 3/4\n",
            "424/424 [==============================] - 94s 219ms/step - loss: 1.5674 - accuracy: 0.5528 - val_loss: 1.3456 - val_accuracy: 0.5750\n",
            "Epoch 4/4\n",
            "424/424 [==============================] - 94s 219ms/step - loss: 1.2528 - accuracy: 0.6391 - val_loss: 1.0942 - val_accuracy: 0.6958\n"
          ]
        }
      ],
      "source": [
        "history = model.fit_generator(train_iter, steps_per_epoch=train_iter.samples // BATCH_SIZE,\n",
        "                              validation_data = valid_iter, \n",
        "                              validation_steps = valid_iter.samples // BATCH_SIZE,\n",
        "                              epochs=4, use_multiprocessing=True, workers=4)#, callbacks=[reduce_lr, early_stopping])"
      ]
    },
    {
      "cell_type": "markdown",
      "id": "7c236768",
      "metadata": {
        "papermill": {
          "duration": 5.880266,
          "end_time": "2022-05-21T18:17:40.345958",
          "exception": false,
          "start_time": "2022-05-21T18:17:34.465692",
          "status": "completed"
        },
        "tags": [],
        "id": "7c236768"
      },
      "source": [
        "# ResNet50V2 model application"
      ]
    },
    {
      "cell_type": "code",
      "execution_count": null,
      "id": "016af927",
      "metadata": {
        "execution": {
          "iopub.execute_input": "2022-05-21T18:17:50.058347Z",
          "iopub.status.busy": "2022-05-21T18:17:50.058033Z",
          "iopub.status.idle": "2022-05-21T18:17:56.576702Z",
          "shell.execute_reply": "2022-05-21T18:17:56.575900Z"
        },
        "papermill": {
          "duration": 11.492528,
          "end_time": "2022-05-21T18:17:56.579451",
          "exception": false,
          "start_time": "2022-05-21T18:17:45.086923",
          "status": "completed"
        },
        "tags": [],
        "id": "016af927",
        "outputId": "6b67fe29-5d88-4ae7-c6dc-5cee58bc2270"
      },
      "outputs": [
        {
          "name": "stdout",
          "output_type": "stream",
          "text": [
            "Downloading data from https://storage.googleapis.com/tensorflow/keras-applications/resnet/resnet152v2_weights_tf_dim_ordering_tf_kernels_notop.h5\n",
            "234553344/234545216 [==============================] - 2s 0us/step\n",
            "234561536/234545216 [==============================] - 2s 0us/step\n"
          ]
        }
      ],
      "source": [
        "resnet = tf.keras.applications.ResNet152V2(include_top=False, input_shape=(224, 224, 3), pooling='avg')"
      ]
    },
    {
      "cell_type": "code",
      "execution_count": null,
      "id": "a1fe66f1",
      "metadata": {
        "execution": {
          "iopub.execute_input": "2022-05-21T18:18:06.485908Z",
          "iopub.status.busy": "2022-05-21T18:18:06.485564Z",
          "iopub.status.idle": "2022-05-21T18:18:07.641917Z",
          "shell.execute_reply": "2022-05-21T18:18:07.639564Z"
        },
        "papermill": {
          "duration": 5.904477,
          "end_time": "2022-05-21T18:18:07.647456",
          "exception": false,
          "start_time": "2022-05-21T18:18:01.742979",
          "status": "completed"
        },
        "tags": [],
        "id": "a1fe66f1",
        "outputId": "bad7a620-b124-4474-a17f-6ba48cd3fe4c"
      },
      "outputs": [
        {
          "name": "stdout",
          "output_type": "stream",
          "text": [
            "Model: \"sequential_2\"\n",
            "_________________________________________________________________\n",
            "Layer (type)                 Output Shape              Param #   \n",
            "=================================================================\n",
            "resnet152v2 (Functional)     (None, 2048)              58331648  \n",
            "_________________________________________________________________\n",
            "flatten_1 (Flatten)          (None, 2048)              0         \n",
            "_________________________________________________________________\n",
            "dense_4 (Dense)              (None, 256)               524544    \n",
            "_________________________________________________________________\n",
            "dense_5 (Dense)              (None, 100)               25700     \n",
            "=================================================================\n",
            "Total params: 58,881,892\n",
            "Trainable params: 550,244\n",
            "Non-trainable params: 58,331,648\n",
            "_________________________________________________________________\n"
          ]
        }
      ],
      "source": [
        "model = keras.Sequential([resnet, \n",
        "                          \n",
        "                          # layers.Dense(1024, kernel_initializer='he_uniform', activation='softmax'),\n",
        "#                           layers.Dense(512, kernel_initializer='he_uniform', activation='relu'),\n",
        "                          layers.Flatten(),\n",
        "                          layers.Dense(256, kernel_initializer='he_uniform', activation='relu'),\n",
        "#                           layers.Dropout(0.5),\n",
        "\n",
        "                        \n",
        "                          layers.Dense(100, kernel_initializer='he_uniform', activation='softmax') \n",
        "                          ])\n",
        "for layer in resnet.layers:\n",
        "  layer.trainable = False\n",
        "\n",
        "model.summary()"
      ]
    },
    {
      "cell_type": "code",
      "execution_count": null,
      "id": "89cc59fd",
      "metadata": {
        "execution": {
          "iopub.execute_input": "2022-05-21T18:18:18.023561Z",
          "iopub.status.busy": "2022-05-21T18:18:18.023215Z",
          "iopub.status.idle": "2022-05-21T18:18:18.040892Z",
          "shell.execute_reply": "2022-05-21T18:18:18.040178Z"
        },
        "papermill": {
          "duration": 4.852807,
          "end_time": "2022-05-21T18:18:18.042693",
          "exception": false,
          "start_time": "2022-05-21T18:18:13.189886",
          "status": "completed"
        },
        "tags": [],
        "id": "89cc59fd"
      },
      "outputs": [],
      "source": [
        "early_stopping = EarlyStopping(monitor='val_loss', patience=3)\n",
        "reduce_lr = ReduceLROnPlateau(monitor='val_loss', factor=0.3,\n",
        "                              patience=1, min_lr=0.0005)\n",
        "adam = keras.optimizers.Adam(learning_rate=0.01)\n",
        "model.compile(optimizer=adam, loss=losses.CategoricalCrossentropy(), metrics=['accuracy'])"
      ]
    },
    {
      "cell_type": "code",
      "execution_count": null,
      "id": "31c6b4ff",
      "metadata": {
        "execution": {
          "iopub.execute_input": "2022-05-21T18:18:27.956660Z",
          "iopub.status.busy": "2022-05-21T18:18:27.956160Z",
          "iopub.status.idle": "2022-05-21T18:32:54.056626Z",
          "shell.execute_reply": "2022-05-21T18:32:54.055588Z"
        },
        "papermill": {
          "duration": 870.994583,
          "end_time": "2022-05-21T18:32:54.059095",
          "exception": false,
          "start_time": "2022-05-21T18:18:23.064512",
          "status": "completed"
        },
        "tags": [],
        "id": "31c6b4ff",
        "outputId": "7b4e4757-5ede-4cfa-a532-2af6f0a638bb"
      },
      "outputs": [
        {
          "name": "stdout",
          "output_type": "stream",
          "text": [
            "Epoch 1/15\n",
            "424/424 [==============================] - 76s 158ms/step - loss: 2.2125 - accuracy: 0.4667 - val_loss: 1.1665 - val_accuracy: 0.6625\n",
            "Epoch 2/15\n",
            "424/424 [==============================] - 68s 158ms/step - loss: 1.4053 - accuracy: 0.6333 - val_loss: 1.2614 - val_accuracy: 0.6687\n",
            "Epoch 3/15\n",
            "424/424 [==============================] - 66s 154ms/step - loss: 0.7032 - accuracy: 0.7953 - val_loss: 0.5919 - val_accuracy: 0.8417\n",
            "Epoch 4/15\n",
            "424/424 [==============================] - 68s 159ms/step - loss: 0.4618 - accuracy: 0.8532 - val_loss: 0.5214 - val_accuracy: 0.8562\n",
            "Epoch 5/15\n",
            "424/424 [==============================] - 68s 158ms/step - loss: 0.3677 - accuracy: 0.8803 - val_loss: 0.5305 - val_accuracy: 0.8583\n",
            "Epoch 6/15\n",
            "424/424 [==============================] - 68s 158ms/step - loss: 0.2166 - accuracy: 0.9309 - val_loss: 0.4801 - val_accuracy: 0.8771\n",
            "Epoch 7/15\n",
            "424/424 [==============================] - 67s 157ms/step - loss: 0.1782 - accuracy: 0.9466 - val_loss: 0.4799 - val_accuracy: 0.8771\n",
            "Epoch 8/15\n",
            "424/424 [==============================] - 69s 161ms/step - loss: 0.1548 - accuracy: 0.9558 - val_loss: 0.5219 - val_accuracy: 0.8750\n",
            "Epoch 9/15\n",
            "424/424 [==============================] - 66s 154ms/step - loss: 0.1250 - accuracy: 0.9679 - val_loss: 0.4572 - val_accuracy: 0.8854\n",
            "Epoch 10/15\n",
            "424/424 [==============================] - 68s 158ms/step - loss: 0.1144 - accuracy: 0.9720 - val_loss: 0.4984 - val_accuracy: 0.8854\n",
            "Epoch 11/15\n",
            "424/424 [==============================] - 68s 159ms/step - loss: 0.1045 - accuracy: 0.9758 - val_loss: 0.4940 - val_accuracy: 0.8792\n",
            "Epoch 12/15\n",
            "424/424 [==============================] - 71s 166ms/step - loss: 0.0957 - accuracy: 0.9785 - val_loss: 0.4951 - val_accuracy: 0.8875\n"
          ]
        }
      ],
      "source": [
        "history = model.fit_generator(train_iter, steps_per_epoch=train_iter.samples // BATCH_SIZE,\n",
        "                              validation_data = valid_iter, \n",
        "                              validation_steps = valid_iter.samples // BATCH_SIZE,\n",
        "                              epochs=15, use_multiprocessing=True, workers=4, callbacks=[reduce_lr, early_stopping])"
      ]
    },
    {
      "cell_type": "code",
      "execution_count": null,
      "id": "6ffd2c40",
      "metadata": {
        "execution": {
          "iopub.execute_input": "2022-05-21T18:33:07.632266Z",
          "iopub.status.busy": "2022-05-21T18:33:07.631184Z",
          "iopub.status.idle": "2022-05-21T18:33:07.689027Z",
          "shell.execute_reply": "2022-05-21T18:33:07.688293Z"
        },
        "papermill": {
          "duration": 6.41398,
          "end_time": "2022-05-21T18:33:07.691245",
          "exception": false,
          "start_time": "2022-05-21T18:33:01.277265",
          "status": "completed"
        },
        "tags": [],
        "id": "6ffd2c40"
      },
      "outputs": [],
      "source": [
        "for layer in resnet.layers:\n",
        "  layer.trainable = True\n",
        "\n",
        "adam = keras.optimizers.Adam(learning_rate=0.0001)\n",
        "model.compile(optimizer=adam, loss=losses.CategoricalCrossentropy(), metrics=['accuracy'])"
      ]
    },
    {
      "cell_type": "code",
      "execution_count": null,
      "id": "fc53885e",
      "metadata": {
        "execution": {
          "iopub.execute_input": "2022-05-21T18:33:20.626800Z",
          "iopub.status.busy": "2022-05-21T18:33:20.626438Z",
          "iopub.status.idle": "2022-05-21T18:46:41.298667Z",
          "shell.execute_reply": "2022-05-21T18:46:41.297810Z"
        },
        "papermill": {
          "duration": 807.017033,
          "end_time": "2022-05-21T18:46:41.301115",
          "exception": false,
          "start_time": "2022-05-21T18:33:14.284082",
          "status": "completed"
        },
        "tags": [],
        "id": "fc53885e",
        "outputId": "95a42c9a-8019-49b7-a2b8-27de1389b17d"
      },
      "outputs": [
        {
          "name": "stdout",
          "output_type": "stream",
          "text": [
            "Epoch 1/4\n",
            "424/424 [==============================] - 194s 422ms/step - loss: 0.8880 - accuracy: 0.7566 - val_loss: 0.3745 - val_accuracy: 0.8979\n",
            "Epoch 2/4\n",
            "424/424 [==============================] - 176s 414ms/step - loss: 0.3491 - accuracy: 0.8988 - val_loss: 0.3945 - val_accuracy: 0.8938\n",
            "Epoch 3/4\n",
            "424/424 [==============================] - 177s 415ms/step - loss: 0.2060 - accuracy: 0.9380 - val_loss: 0.3439 - val_accuracy: 0.9000\n",
            "Epoch 4/4\n",
            "424/424 [==============================] - 177s 415ms/step - loss: 0.1965 - accuracy: 0.9422 - val_loss: 0.3086 - val_accuracy: 0.9125\n"
          ]
        }
      ],
      "source": [
        "history = model.fit_generator(train_iter, steps_per_epoch=train_iter.samples // BATCH_SIZE,\n",
        "                              validation_data = valid_iter, \n",
        "                              validation_steps = valid_iter.samples // BATCH_SIZE,\n",
        "                              epochs=4, use_multiprocessing=True, workers=4)#, callbacks=[reduce_lr, early_stopping])"
      ]
    },
    {
      "cell_type": "markdown",
      "id": "0dd394fc",
      "metadata": {
        "papermill": {
          "duration": 7.185624,
          "end_time": "2022-05-21T18:46:56.144251",
          "exception": false,
          "start_time": "2022-05-21T18:46:48.958627",
          "status": "completed"
        },
        "tags": [],
        "id": "0dd394fc"
      },
      "source": [
        "# MobileNet"
      ]
    },
    {
      "cell_type": "code",
      "execution_count": null,
      "id": "cb3c9e95",
      "metadata": {
        "execution": {
          "iopub.execute_input": "2022-05-21T18:47:10.285989Z",
          "iopub.status.busy": "2022-05-21T18:47:10.285698Z",
          "iopub.status.idle": "2022-05-21T18:47:11.755755Z",
          "shell.execute_reply": "2022-05-21T18:47:11.755087Z"
        },
        "papermill": {
          "duration": 8.581468,
          "end_time": "2022-05-21T18:47:11.757678",
          "exception": false,
          "start_time": "2022-05-21T18:47:03.176210",
          "status": "completed"
        },
        "tags": [],
        "id": "cb3c9e95",
        "outputId": "325d487b-0680-4cc9-ca1f-c67f57abd87b"
      },
      "outputs": [
        {
          "name": "stdout",
          "output_type": "stream",
          "text": [
            "Downloading data from https://storage.googleapis.com/tensorflow/keras-applications/mobilenet_v2/mobilenet_v2_weights_tf_dim_ordering_tf_kernels_1.0_224_no_top.h5\n",
            "9412608/9406464 [==============================] - 0s 0us/step\n",
            "9420800/9406464 [==============================] - 0s 0us/step\n"
          ]
        }
      ],
      "source": [
        "mobilenet = tf.keras.applications.MobileNetV2(include_top=False, input_shape=(224, 224, 3), pooling='avg')"
      ]
    },
    {
      "cell_type": "code",
      "execution_count": null,
      "id": "2f031f0b",
      "metadata": {
        "execution": {
          "iopub.execute_input": "2022-05-21T18:47:26.730384Z",
          "iopub.status.busy": "2022-05-21T18:47:26.730124Z",
          "iopub.status.idle": "2022-05-21T18:47:27.081054Z",
          "shell.execute_reply": "2022-05-21T18:47:27.080319Z"
        },
        "papermill": {
          "duration": 7.872565,
          "end_time": "2022-05-21T18:47:27.082879",
          "exception": false,
          "start_time": "2022-05-21T18:47:19.210314",
          "status": "completed"
        },
        "tags": [],
        "id": "2f031f0b",
        "outputId": "0e0b2683-8e3e-4c2a-c576-cbddd5090ca2"
      },
      "outputs": [
        {
          "name": "stdout",
          "output_type": "stream",
          "text": [
            "Model: \"sequential_3\"\n",
            "_________________________________________________________________\n",
            "Layer (type)                 Output Shape              Param #   \n",
            "=================================================================\n",
            "mobilenetv2_1.00_224 (Functi (None, 1280)              2257984   \n",
            "_________________________________________________________________\n",
            "flatten_2 (Flatten)          (None, 1280)              0         \n",
            "_________________________________________________________________\n",
            "dense_6 (Dense)              (None, 256)               327936    \n",
            "_________________________________________________________________\n",
            "dense_7 (Dense)              (None, 100)               25700     \n",
            "=================================================================\n",
            "Total params: 2,611,620\n",
            "Trainable params: 353,636\n",
            "Non-trainable params: 2,257,984\n",
            "_________________________________________________________________\n"
          ]
        }
      ],
      "source": [
        "model = keras.Sequential([mobilenet, \n",
        "                          \n",
        "                          # layers.Dense(1024, kernel_initializer='he_uniform', activation='softmax'),\n",
        "#                           layers.Dense(512, kernel_initializer='he_uniform', activation='relu'),\n",
        "                          layers.Flatten(),\n",
        "                          layers.Dense(256, kernel_initializer='he_uniform', activation='relu'),\n",
        "#                           layers.Dropout(0.5),\n",
        "\n",
        "                        \n",
        "                          layers.Dense(100, kernel_initializer='he_uniform', activation='softmax') \n",
        "                          ])\n",
        "for layer in mobilenet.layers:\n",
        "  layer.trainable = False\n",
        "\n",
        "model.summary()"
      ]
    },
    {
      "cell_type": "code",
      "execution_count": null,
      "id": "24ec230d",
      "metadata": {
        "execution": {
          "iopub.execute_input": "2022-05-21T18:47:41.436261Z",
          "iopub.status.busy": "2022-05-21T18:47:41.436001Z",
          "iopub.status.idle": "2022-05-21T18:47:41.449276Z",
          "shell.execute_reply": "2022-05-21T18:47:41.448632Z"
        },
        "papermill": {
          "duration": 7.143421,
          "end_time": "2022-05-21T18:47:41.451006",
          "exception": false,
          "start_time": "2022-05-21T18:47:34.307585",
          "status": "completed"
        },
        "tags": [],
        "id": "24ec230d"
      },
      "outputs": [],
      "source": [
        "early_stopping = EarlyStopping(monitor='val_loss', patience=3)\n",
        "reduce_lr = ReduceLROnPlateau(monitor='val_loss', factor=0.3,\n",
        "                              patience=1, min_lr=0.0005)\n",
        "adam = keras.optimizers.Adam(learning_rate=0.01)\n",
        "model.compile(optimizer=adam, loss=losses.CategoricalCrossentropy(), metrics=['accuracy'])"
      ]
    },
    {
      "cell_type": "code",
      "execution_count": null,
      "id": "cc6eca48",
      "metadata": {
        "execution": {
          "iopub.execute_input": "2022-05-21T18:47:56.142843Z",
          "iopub.status.busy": "2022-05-21T18:47:56.142564Z",
          "iopub.status.idle": "2022-05-21T18:58:58.250154Z",
          "shell.execute_reply": "2022-05-21T18:58:58.249074Z"
        },
        "papermill": {
          "duration": 669.874195,
          "end_time": "2022-05-21T18:58:58.252617",
          "exception": false,
          "start_time": "2022-05-21T18:47:48.378422",
          "status": "completed"
        },
        "tags": [],
        "id": "cc6eca48",
        "outputId": "a4c3393c-6bfc-4ac7-a33a-6a4db938ab63"
      },
      "outputs": [
        {
          "name": "stdout",
          "output_type": "stream",
          "text": [
            "Epoch 1/15\n",
            "424/424 [==============================] - 44s 96ms/step - loss: 2.0784 - accuracy: 0.4794 - val_loss: 1.0260 - val_accuracy: 0.6896\n",
            "Epoch 2/15\n",
            "424/424 [==============================] - 41s 95ms/step - loss: 1.2701 - accuracy: 0.6495 - val_loss: 0.9648 - val_accuracy: 0.7354\n",
            "Epoch 3/15\n",
            "424/424 [==============================] - 39s 92ms/step - loss: 1.1301 - accuracy: 0.6885 - val_loss: 1.0825 - val_accuracy: 0.7125\n",
            "Epoch 4/15\n",
            "424/424 [==============================] - 40s 93ms/step - loss: 0.5710 - accuracy: 0.8312 - val_loss: 0.5692 - val_accuracy: 0.8354\n",
            "Epoch 5/15\n",
            "424/424 [==============================] - 48s 110ms/step - loss: 0.4048 - accuracy: 0.8755 - val_loss: 0.6409 - val_accuracy: 0.8229\n",
            "Epoch 6/15\n",
            "424/424 [==============================] - 40s 93ms/step - loss: 0.2683 - accuracy: 0.9194 - val_loss: 0.5501 - val_accuracy: 0.8396\n",
            "Epoch 7/15\n",
            "424/424 [==============================] - 40s 92ms/step - loss: 0.2374 - accuracy: 0.9311 - val_loss: 0.5483 - val_accuracy: 0.8500\n",
            "Epoch 8/15\n",
            "424/424 [==============================] - 40s 92ms/step - loss: 0.2166 - accuracy: 0.9386 - val_loss: 0.5596 - val_accuracy: 0.8417\n",
            "Epoch 9/15\n",
            "424/424 [==============================] - 40s 93ms/step - loss: 0.1854 - accuracy: 0.9496 - val_loss: 0.5511 - val_accuracy: 0.8500\n",
            "Epoch 10/15\n",
            "424/424 [==============================] - 40s 93ms/step - loss: 0.1765 - accuracy: 0.9541 - val_loss: 0.5447 - val_accuracy: 0.8562\n",
            "Epoch 11/15\n",
            "424/424 [==============================] - 44s 102ms/step - loss: 0.1672 - accuracy: 0.9572 - val_loss: 0.5613 - val_accuracy: 0.8479\n",
            "Epoch 12/15\n",
            "424/424 [==============================] - 40s 93ms/step - loss: 0.1586 - accuracy: 0.9595 - val_loss: 0.5706 - val_accuracy: 0.8542\n",
            "Epoch 13/15\n",
            "424/424 [==============================] - 40s 92ms/step - loss: 0.1510 - accuracy: 0.9631 - val_loss: 0.5826 - val_accuracy: 0.8500\n"
          ]
        }
      ],
      "source": [
        "history = model.fit_generator(train_iter, steps_per_epoch=train_iter.samples // BATCH_SIZE,\n",
        "                              validation_data = valid_iter, \n",
        "                              validation_steps = valid_iter.samples // BATCH_SIZE,\n",
        "                              epochs=15, use_multiprocessing=True, workers=4, callbacks=[reduce_lr, early_stopping])"
      ]
    },
    {
      "cell_type": "code",
      "execution_count": null,
      "id": "98b3d0d1",
      "metadata": {
        "execution": {
          "iopub.execute_input": "2022-05-21T18:59:15.714537Z",
          "iopub.status.busy": "2022-05-21T18:59:15.714193Z",
          "iopub.status.idle": "2022-05-21T18:59:15.740165Z",
          "shell.execute_reply": "2022-05-21T18:59:15.739517Z"
        },
        "papermill": {
          "duration": 8.674278,
          "end_time": "2022-05-21T18:59:15.741849",
          "exception": false,
          "start_time": "2022-05-21T18:59:07.067571",
          "status": "completed"
        },
        "tags": [],
        "id": "98b3d0d1"
      },
      "outputs": [],
      "source": [
        "for layer in mobilenet.layers:\n",
        "  layer.trainable = True\n",
        "\n",
        "adam = keras.optimizers.Adam(learning_rate=0.0001)\n",
        "model.compile(optimizer=adam, loss=losses.CategoricalCrossentropy(), metrics=['accuracy'])"
      ]
    },
    {
      "cell_type": "code",
      "execution_count": null,
      "id": "ab3e8b55",
      "metadata": {
        "execution": {
          "iopub.execute_input": "2022-05-21T18:59:33.468843Z",
          "iopub.status.busy": "2022-05-21T18:59:33.468582Z",
          "iopub.status.idle": "2022-05-21T19:04:47.274147Z",
          "shell.execute_reply": "2022-05-21T19:04:47.273249Z"
        },
        "papermill": {
          "duration": 322.791981,
          "end_time": "2022-05-21T19:04:47.276449",
          "exception": false,
          "start_time": "2022-05-21T18:59:24.484468",
          "status": "completed"
        },
        "tags": [],
        "id": "ab3e8b55",
        "outputId": "7ead59d7-302c-40ea-faf0-8da69969d1fd"
      },
      "outputs": [
        {
          "name": "stdout",
          "output_type": "stream",
          "text": [
            "Epoch 1/4\n",
            "424/424 [==============================] - 80s 176ms/step - loss: 0.9755 - accuracy: 0.7419 - val_loss: 0.9432 - val_accuracy: 0.7708\n",
            "Epoch 2/4\n",
            "424/424 [==============================] - 76s 177ms/step - loss: 0.4265 - accuracy: 0.8725 - val_loss: 0.6665 - val_accuracy: 0.8354\n",
            "Epoch 3/4\n",
            "424/424 [==============================] - 75s 175ms/step - loss: 0.2459 - accuracy: 0.9239 - val_loss: 0.5040 - val_accuracy: 0.8667\n",
            "Epoch 4/4\n",
            "424/424 [==============================] - 79s 185ms/step - loss: 0.1728 - accuracy: 0.9473 - val_loss: 0.7567 - val_accuracy: 0.8208\n"
          ]
        }
      ],
      "source": [
        "history = model.fit_generator(train_iter, steps_per_epoch=train_iter.samples // BATCH_SIZE,\n",
        "                              validation_data = valid_iter, \n",
        "                              validation_steps = valid_iter.samples // BATCH_SIZE,\n",
        "                              epochs=4, use_multiprocessing=True, workers=4)#, callbacks=[reduce_lr, early_stopping])"
      ]
    },
    {
      "cell_type": "code",
      "execution_count": null,
      "id": "6d3a6326",
      "metadata": {
        "papermill": {
          "duration": 9.273424,
          "end_time": "2022-05-21T19:05:06.385235",
          "exception": false,
          "start_time": "2022-05-21T19:04:57.111811",
          "status": "completed"
        },
        "tags": [],
        "id": "6d3a6326"
      },
      "outputs": [],
      "source": [
        ""
      ]
    }
  ],
  "metadata": {
    "kernelspec": {
      "display_name": "Python 3",
      "language": "python",
      "name": "python3"
    },
    "language_info": {
      "codemirror_mode": {
        "name": "ipython",
        "version": 3
      },
      "file_extension": ".py",
      "mimetype": "text/x-python",
      "name": "python",
      "nbconvert_exporter": "python",
      "pygments_lexer": "ipython3",
      "version": "3.7.12"
    },
    "papermill": {
      "default_parameters": {},
      "duration": 6074.922951,
      "end_time": "2022-05-21T19:05:18.139074",
      "environment_variables": {},
      "exception": null,
      "input_path": "__notebook__.ipynb",
      "output_path": "__notebook__.ipynb",
      "parameters": {},
      "start_time": "2022-05-21T17:24:03.216123",
      "version": "2.3.4"
    },
    "colab": {
      "name": "transfer_learning-with-fine-tuning.ipynb",
      "provenance": []
    }
  },
  "nbformat": 4,
  "nbformat_minor": 5
}